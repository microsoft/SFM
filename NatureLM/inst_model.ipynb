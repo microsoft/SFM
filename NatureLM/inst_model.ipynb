{
 "cells": [
  {
   "cell_type": "code",
   "execution_count": 1,
   "id": "ed1d196a",
   "metadata": {},
   "outputs": [
    {
     "name": "stderr",
     "output_type": "stream",
     "text": [
      "/home/shufxi/repo/SFM/NatureLM/.venv/lib/python3.11/site-packages/tqdm/auto.py:21: TqdmWarning: IProgress not found. Please update jupyter and ipywidgets. See https://ipywidgets.readthedocs.io/en/stable/user_install.html\n",
      "  from .autonotebook import tqdm as notebook_tqdm\n"
     ]
    }
   ],
   "source": [
    "from transformers import AutoModelForCausalLM, AutoTokenizer"
   ]
  },
  {
   "cell_type": "code",
   "execution_count": 2,
   "id": "203172f6",
   "metadata": {},
   "outputs": [
    {
     "name": "stderr",
     "output_type": "stream",
     "text": [
      "Loading checkpoint shards: 100%|██████████| 19/19 [00:01<00:00, 17.99it/s]\n"
     ]
    }
   ],
   "source": [
    "# Load the tokenizer and model for NatureLM-1B-Inst\n",
    "model_name = \"microsoft/NatureLM-1B-Inst\"\n",
    "\n",
    "tokenizer = AutoTokenizer.from_pretrained(model_name, trust_remote_code=True)\n",
    "model = AutoModelForCausalLM.from_pretrained(model_name, trust_remote_code=True)"
   ]
  },
  {
   "cell_type": "code",
   "execution_count": 3,
   "id": "3925b726",
   "metadata": {},
   "outputs": [],
   "source": [
    "prompt_template = \"Instruction: {instruction}\\n\\n\\nResponse:\"\n",
    "question = \"How to synthesis <product>CC(C)(C)C(=O)OCOP(=O)(OCOC(=O)C(C)(C)C)OCC1CCC(N2C=CC(N)NC2=O)O1</product>?\"\n",
    "prompt = prompt_template.format(instruction=question)"
   ]
  },
  {
   "cell_type": "code",
   "execution_count": 4,
   "id": "265ebf79",
   "metadata": {},
   "outputs": [
    {
     "name": "stderr",
     "output_type": "stream",
     "text": [
      "The attention mask and the pad token id were not set. As a consequence, you may observe unexpected behavior. Please pass your input's `attention_mask` to obtain reliable results.\n",
      "Setting `pad_token_id` to `eos_token_id`:128001 for open-end generation.\n",
      "The attention mask is not set and cannot be inferred from input because pad token is same as eos token. As a consequence, you may observe unexpected behavior. Please pass your input's `attention_mask` to obtain reliable results.\n"
     ]
    },
    {
     "name": "stdout",
     "output_type": "stream",
     "text": [
      "<|begin_of_text|>Instruction: How to synthesis<product>CC(C)(C)C(=O)OCOP(=O)(OCOC(=O)C(C)(C)C)OCC1CCC(N2C=CC(N)NC2=O)O1</product>?\n",
      "\n",
      "\n",
      "Response:<reactants>CC(C)(C)C(=O)OCOP(=O)(OCOC(=O)C(C)(C)C)OCC1CCC(N2C=CC(NC(=O)OC(C)(C)C)NC2=O)O1</reactants><|end_of_text|>\n"
     ]
    }
   ],
   "source": [
    "tokens = tokenizer(prompt, return_tensors=\"pt\")\n",
    "output = model.generate(\n",
    "    input_ids=tokens.input_ids, max_new_tokens=100, do_sample=True, temperature=0.7\n",
    ")\n",
    "response = tokenizer.decode(output[0]).replace(\"<m>\", \"\")\n",
    "\n",
    "print(response)"
   ]
  }
 ],
 "metadata": {
  "kernelspec": {
   "display_name": ".venv",
   "language": "python",
   "name": "python3"
  },
  "language_info": {
   "codemirror_mode": {
    "name": "ipython",
    "version": 3
   },
   "file_extension": ".py",
   "mimetype": "text/x-python",
   "name": "python",
   "nbconvert_exporter": "python",
   "pygments_lexer": "ipython3",
   "version": "3.11.12"
  }
 },
 "nbformat": 4,
 "nbformat_minor": 5
}
