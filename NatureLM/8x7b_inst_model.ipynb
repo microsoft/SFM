{
 "cells": [
  {
   "cell_type": "code",
   "execution_count": 1,
   "id": "ca3808d9",
   "metadata": {},
   "outputs": [
    {
     "name": "stderr",
     "output_type": "stream",
     "text": [
      "/home/shufxi/repo/SFM/NatureLM/.venv/lib/python3.11/site-packages/tqdm/auto.py:21: TqdmWarning: IProgress not found. Please update jupyter and ipywidgets. See https://ipywidgets.readthedocs.io/en/stable/user_install.html\n",
      "  from .autonotebook import tqdm as notebook_tqdm\n"
     ]
    }
   ],
   "source": [
    "from transformers import AutoModelForCausalLM, AutoTokenizer"
   ]
  },
  {
   "cell_type": "code",
   "execution_count": null,
   "id": "a007bcc2",
   "metadata": {},
   "outputs": [
    {
     "name": "stderr",
     "output_type": "stream",
     "text": [
      "The `load_in_4bit` and `load_in_8bit` arguments are deprecated and will be removed in the future versions. Please, pass a `BitsAndBytesConfig` object in `quantization_config` argument instead.\n",
      "Fetching 35 files: 100%|██████████| 35/35 [03:17<00:00,  5.65s/it]\n",
      "Loading checkpoint shards: 100%|██████████| 35/35 [05:56<00:00, 10.19s/it]  \n"
     ]
    }
   ],
   "source": [
    "# Load the tokenizer and model for NatureLM-8x7B-Inst\n",
    "model_name = \"microsoft/NatureLM-8x7B-Inst\"\n",
    "\n",
    "tokenizer = AutoTokenizer.from_pretrained(model_name, trust_remote_code=True)\n",
    "\n",
    "# As the model may not fit in single GPU, you may need to load in 8bits.\n",
    "# Or use model parallelism if multiple GPUs are available (see 8x7b_base_model.ipynb for more details).\n",
    "model = AutoModelForCausalLM.from_pretrained(\n",
    "    model_name, trust_remote_code=True, load_in_8bit=True\n",
    ")"
   ]
  },
  {
   "cell_type": "code",
   "execution_count": 4,
   "id": "956017c0",
   "metadata": {},
   "outputs": [
    {
     "name": "stderr",
     "output_type": "stream",
     "text": [
      "Setting `pad_token_id` to `eos_token_id`:2 for open-end generation.\n"
     ]
    },
    {
     "name": "stdout",
     "output_type": "stream",
     "text": [
      "<s>Instruction: What is the SMILES of aspirin?\n",
      "\n",
      "\n",
      "Response: <mol> C C ( = O ) O c 1 c c c c c 1 C ( = O ) O </mol> </s>\n"
     ]
    }
   ],
   "source": [
    "tokens = tokenizer(\n",
    "    \"Instruction: What is the SMILES of aspirin?\\n\\n\\nResponse:\", return_tensors=\"pt\"\n",
    ")\n",
    "\n",
    "ret = model.generate(\n",
    "    input_ids=tokens.input_ids.cuda(),\n",
    "    attention_mask=tokens.attention_mask.cuda(),\n",
    "    max_new_tokens=100,\n",
    "    do_sample=True,\n",
    "    temperature=0.7,\n",
    ")\n",
    "detoked = tokenizer.decode(ret[0]).replace(\"<m>\", \"\")\n",
    "\n",
    "\n",
    "print(detoked)"
   ]
  },
  {
   "cell_type": "code",
   "execution_count": null,
   "id": "3234e490",
   "metadata": {},
   "outputs": [],
   "source": []
  }
 ],
 "metadata": {
  "kernelspec": {
   "display_name": ".venv",
   "language": "python",
   "name": "python3"
  },
  "language_info": {
   "codemirror_mode": {
    "name": "ipython",
    "version": 3
   },
   "file_extension": ".py",
   "mimetype": "text/x-python",
   "name": "python",
   "nbconvert_exporter": "python",
   "pygments_lexer": "ipython3",
   "version": "3.11.12"
  }
 },
 "nbformat": 4,
 "nbformat_minor": 5
}
