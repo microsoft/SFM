{
 "cells": [
  {
   "cell_type": "code",
   "execution_count": 1,
   "id": "cf7197c6",
   "metadata": {},
   "outputs": [
    {
     "name": "stderr",
     "output_type": "stream",
     "text": [
      "/home/shufxi/repo/SFM/NatureLM/.venv/lib/python3.11/site-packages/tqdm/auto.py:21: TqdmWarning: IProgress not found. Please update jupyter and ipywidgets. See https://ipywidgets.readthedocs.io/en/stable/user_install.html\n",
      "  from .autonotebook import tqdm as notebook_tqdm\n"
     ]
    }
   ],
   "source": [
    "from transformers import AutoModelForCausalLM, AutoTokenizer\n",
    "from accelerate import init_empty_weights, load_checkpoint_and_dispatch\n",
    "import torch"
   ]
  },
  {
   "cell_type": "code",
   "execution_count": 2,
   "id": "d81889d9",
   "metadata": {},
   "outputs": [
    {
     "name": "stderr",
     "output_type": "stream",
     "text": [
      "A new version of the following files was downloaded from https://huggingface.co/microsoft/NatureLM-8x7B:\n",
      "- science_tokens.py\n",
      ". Make sure to double-check they do not contain any added malicious code. To avoid downloading new versions of the code file, you can pin a revision.\n",
      "A new version of the following files was downloaded from https://huggingface.co/microsoft/NatureLM-8x7B:\n",
      "- nlm_tokenizer.py\n",
      "- science_tokens.py\n",
      ". Make sure to double-check they do not contain any added malicious code. To avoid downloading new versions of the code file, you can pin a revision.\n"
     ]
    }
   ],
   "source": [
    "model_name = \"microsoft/NatureLM-8x7B\"\n",
    "tokenizer = AutoTokenizer.from_pretrained(model_name, trust_remote_code=True)"
   ]
  },
  {
   "cell_type": "code",
   "execution_count": 3,
   "id": "86d58972",
   "metadata": {},
   "outputs": [],
   "source": [
    "# As the model may not fit in single GPU, you may need to use model parallel.\n",
    "# Or load the model in 8-bit (see 8x7b_inst_model.ipynb for more details)\n",
    "\n",
    "\n",
    "def create_device_map(n_parallel=2, start_device=0):\n",
    "    n_layers = 32\n",
    "    layer_per_rank = n_layers // n_parallel\n",
    "    device_map = {}\n",
    "    device_map[\"model.embed_tokens.weight\"] = 0 + start_device\n",
    "    for i in range(n_layers):\n",
    "        device_idx = i // layer_per_rank + start_device\n",
    "        device_map[f\"model.layers.{i}\"] = device_idx\n",
    "\n",
    "    device_map[\"model.norm.weight\"] = (n_layers - 1) // layer_per_rank + start_device\n",
    "    device_map[\"lm_head.weight\"] = (n_layers - 1) // layer_per_rank + start_device\n",
    "\n",
    "    return device_map"
   ]
  },
  {
   "cell_type": "code",
   "execution_count": null,
   "id": "a91619e9",
   "metadata": {},
   "outputs": [],
   "source": [
    "with init_empty_weights():\n",
    "    model = AutoModelForCausalLM.from_pretrained(model_name)\n",
    "\n",
    "model = load_checkpoint_and_dispatch(\n",
    "    model,\n",
    "    model_name,\n",
    "    device_map=create_device_map(n_parallel=2, start_device=0),\n",
    "    no_split_module_classes=[\"MixtralDecoderLayer\"],\n",
    "    dtype=torch.bfloat16,\n",
    "    offload_folder=None,\n",
    "    offload_state_dict=True,\n",
    ")"
   ]
  },
  {
   "cell_type": "code",
   "execution_count": null,
   "id": "d9258fa8",
   "metadata": {},
   "outputs": [],
   "source": [
    "tokens = tokenizer(\"<mol>C\", return_tensors=\"pt\")\n",
    "\n",
    "output = model.generate(\n",
    "    input_ids=tokens.input_ids, max_new_tokens=100, do_sample=True, temperature=0.7\n",
    ")\n",
    "\n",
    "print(tokenizer.decode(output[0]).replace(\"<m>\", \"\"))"
   ]
  }
 ],
 "metadata": {
  "kernelspec": {
   "display_name": ".venv",
   "language": "python",
   "name": "python3"
  },
  "language_info": {
   "codemirror_mode": {
    "name": "ipython",
    "version": 3
   },
   "file_extension": ".py",
   "mimetype": "text/x-python",
   "name": "python",
   "nbconvert_exporter": "python",
   "pygments_lexer": "ipython3",
   "version": "3.11.13"
  }
 },
 "nbformat": 4,
 "nbformat_minor": 5
}
